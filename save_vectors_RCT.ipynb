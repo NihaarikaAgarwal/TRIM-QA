{
 "cells": [
  {
   "cell_type": "code",
   "execution_count": 1,
   "id": "34e76a6a-1a35-4515-8fe7-206b44094048",
   "metadata": {},
   "outputs": [
    {
     "name": "stdout",
     "output_type": "stream",
     "text": [
      "Defaulting to user installation because normal site-packages is not writeable\n",
      "Requirement already satisfied: faiss-cpu in /home/itewari1/.local/lib/python3.12/site-packages (1.10.0)\n",
      "Requirement already satisfied: numpy<3.0,>=1.25.0 in /packages/apps/jupyter/2025-03-24/lib/python3.12/site-packages (from faiss-cpu) (2.2.4)\n",
      "Requirement already satisfied: packaging in /packages/apps/jupyter/2025-03-24/lib/python3.12/site-packages (from faiss-cpu) (24.2)\n"
     ]
    }
   ],
   "source": [
    "!pip install faiss-cpu"
   ]
  },
  {
   "cell_type": "code",
   "execution_count": 5,
   "id": "27489386-7e58-4968-8fb8-08e6692435fb",
   "metadata": {},
   "outputs": [],
   "source": [
    "import json\n",
    "import faiss\n",
    "import numpy as np\n",
    "from sentence_transformers import SentenceTransformer\n",
    "import os\n",
    "import torch"
   ]
  },
  {
   "cell_type": "code",
   "execution_count": 6,
   "id": "7adf7385-d2a2-4ec5-9395-88e90ccc2b0e",
   "metadata": {},
   "outputs": [],
   "source": [
    "# === Configuration ===\n",
    "json_file_path = \"/home/itewari1/NLP/Pruning/chunks.json\"              # Path to your input JSON file\n",
    "faiss_index_path = \"RCT_embeddings.index\"    # Path to store FAISS index\n",
    "id_mapping_path = \"chunk_id_map.json\"          # Path to store chunk_id <-> FAISS index mapping"
   ]
  },
  {
   "cell_type": "code",
   "execution_count": 8,
   "id": "5d2bc09b-f04b-47fa-a1dd-717e9f51261b",
   "metadata": {},
   "outputs": [
    {
     "name": "stdout",
     "output_type": "stream",
     "text": [
      "Model device: cuda:0\n"
     ]
    }
   ],
   "source": [
    "# === Load SentenceTransformer Model ===\n",
    "device = 'cuda' if torch.cuda.is_available() else 'cpu'\n",
    "\n",
    "model = SentenceTransformer('sentence-transformers/all-MiniLM-L6-v2', device=device)\n",
    "\n",
    "print(\"Model device:\", model.device)\n",
    "\n",
    "# === Initialize FAISS Index (512 dim for MiniLM) ===\n",
    "embedding_dim = 384\n",
    "index = faiss.IndexFlatL2(embedding_dim)\n",
    "\n",
    "# === Mappings ===\n",
    "chunk_id_to_index = {}  # maps FAISS index to chunk_id\n",
    "index_counter = 0\n",
    "all_embeddings = []"
   ]
  },
  {
   "cell_type": "code",
   "execution_count": 10,
   "id": "35fe5b8e-3004-4eac-ae3e-6429dde57427",
   "metadata": {},
   "outputs": [
    {
     "name": "stdout",
     "output_type": "stream",
     "text": [
      "Embedding starts...\n"
     ]
    },
    {
     "data": {
      "application/vnd.jupyter.widget-view+json": {
       "model_id": "ba4fe5b8f5cf4026b43e5a542cfb238d",
       "version_major": 2,
       "version_minor": 0
      },
      "text/plain": [
       "Batches:   0%|          | 0/45006 [00:00<?, ?it/s]"
      ]
     },
     "metadata": {},
     "output_type": "display_data"
    },
    {
     "name": "stdout",
     "output_type": "stream",
     "text": [
      "Storing Starts...\n",
      "✅ Stored 2880373 embeddings to FAISS at: RCT_embeddings.index\n",
      "📝 Mapping saved at: chunk_id_map.json\n"
     ]
    }
   ],
   "source": [
    "# === Load JSON and process ===\n",
    "with open(json_file_path, 'r', encoding='utf-8') as f:\n",
    "    data = [json.loads(line) for line in f]\n",
    "\n",
    "# Prepare valid items\n",
    "texts = []\n",
    "valid_chunk_ids = []\n",
    "\n",
    "for item in data:\n",
    "    text = item.get(\"text\", \"\").strip()\n",
    "    metadata = item.get(\"metadata\", {})\n",
    "    chunk_id = metadata.get(\"chunk_id\", \"\")\n",
    "\n",
    "    if text and chunk_id:\n",
    "        texts.append(text)\n",
    "        valid_chunk_ids.append(chunk_id)\n",
    "\n",
    "print(\"Embedding starts...\")\n",
    "\n",
    "# Batch encode\n",
    "embeddings = model.encode(texts, convert_to_numpy=True, batch_size=64, show_progress_bar=True)\n",
    "\n",
    "print(\"Storing Starts...\")\n",
    "\n",
    "# Store embeddings\n",
    "for embedding, chunk_id in zip(embeddings, valid_chunk_ids):\n",
    "    all_embeddings.append(embedding)\n",
    "    chunk_id_to_index[index_counter] = chunk_id\n",
    "    index_counter += 1\n",
    "\n",
    "\n",
    "if not all_embeddings:\n",
    "    raise ValueError(\"No embeddings found. Aborting FAISS index creation.\")\n",
    "\n",
    "all_embeddings = np.array(all_embeddings, dtype='float32')\n",
    "if len(all_embeddings.shape) != 2:\n",
    "    raise ValueError(\"Expected 2D array for embeddings.\")\n",
    "\n",
    "index.add(all_embeddings)\n",
    "\n",
    "faiss.write_index(index, faiss_index_path)\n",
    "with open(id_mapping_path, 'w', encoding='utf-8') as f:\n",
    "    json.dump(chunk_id_to_index, f, indent=2)\n",
    "\n",
    "print(f\"✅ Stored {len(chunk_id_to_index)} embeddings to FAISS at: {faiss_index_path}\")\n",
    "print(f\"📝 Mapping saved at: {id_mapping_path}\")"
   ]
  },
  {
   "cell_type": "code",
   "execution_count": null,
   "id": "4d89b532-1318-4768-a1a0-f302aae9fdb5",
   "metadata": {},
   "outputs": [],
   "source": []
  },
  {
   "cell_type": "code",
   "execution_count": null,
   "id": "1e179b4d-a4d0-44b4-b78d-daf80a5ad71a",
   "metadata": {},
   "outputs": [],
   "source": []
  }
 ],
 "metadata": {
  "kernelspec": {
   "display_name": "Python 3",
   "language": "python",
   "name": "python3"
  },
  "language_info": {
   "codemirror_mode": {
    "name": "ipython",
    "version": 3
   },
   "file_extension": ".py",
   "mimetype": "text/x-python",
   "name": "python",
   "nbconvert_exporter": "python",
   "pygments_lexer": "ipython3",
   "version": "3.12.9"
  }
 },
 "nbformat": 4,
 "nbformat_minor": 5
}
